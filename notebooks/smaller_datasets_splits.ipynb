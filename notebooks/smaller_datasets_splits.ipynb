{
 "cells": [
  {
   "cell_type": "markdown",
   "metadata": {},
   "source": [
    "This notebook prepares smaller datasets to make some experiments runable using desktops. Availables, smaller datasets:\n",
    "* [labels_ten_frequent.csv](https://ligands.blob.core.windows.net/ligands/labels_ten_frequent.csv)\n",
    "* [labels_ten_percent.csv](https://ligands.blob.core.windows.net/ligands/labels_ten_percent.csv)\n",
    "* [labels_hundred.csv](https://ligands.blob.core.windows.net/ligands/labels_hundred.csv)\n",
    "\n",
    "To use "
   ]
  },
  {
   "cell_type": "code",
   "execution_count": 1,
   "metadata": {},
   "outputs": [],
   "source": [
    "import numpy as np\n",
    "import pandas as pd\n",
    "\n",
    "import os\n",
    "import shutil\n",
    "\n",
    "from sklearn.utils import shuffle\n",
    "\n",
    "np.random.seed(42)"
   ]
  },
  {
   "cell_type": "code",
   "execution_count": 2,
   "metadata": {},
   "outputs": [],
   "source": [
    "df_labels = shuffle(pd.read_csv('../data/stats_by_label.csv', usecols=['label', 'count']))\n",
    "df_blobs = shuffle(pd.read_csv('../data/cmb_blob_labels.csv'))"
   ]
  },
  {
   "cell_type": "markdown",
   "metadata": {},
   "source": [
    "# Ten most frequent classes\n",
    "This dataset is composed of all blobs belonging to ten most frequent classes\n",
    "\n",
    "Synthesized dataset consist of:\n",
    "* 10 classes\n",
    "* 558043 blobs\n"
   ]
  },
  {
   "cell_type": "code",
   "execution_count": 3,
   "metadata": {},
   "outputs": [],
   "source": [
    "labels = set(df_labels.sort_values(by='count', ascending=False).iloc[:10]['label'].to_list())\n",
    "df_blobs[df_blobs['ligand'].isin(labels)].to_csv('labels_ten_frequent.csv', index=False)"
   ]
  },
  {
   "cell_type": "markdown",
   "metadata": {},
   "source": [
    "# 10% of the original dataset (maintaned proportions between classes)\n",
    "This dataset is composed of (arbitrary) 10% of blobs belonging to classes, which contain more than 1000 instances. The constraint is to avoid creating extremally small classes in the synthesized (smaller) dataset. The syntesized dataset maintaines proportions between classes.\n",
    "\n",
    "Synthesized dataset consist of:\n",
    "* 44 classes\n",
    "* 64714 blobs"
   ]
  },
  {
   "cell_type": "code",
   "execution_count": 4,
   "metadata": {},
   "outputs": [],
   "source": [
    "labels = dict()\n",
    "\n",
    "for row in df_labels[df_labels['count'] > 1000].values:\n",
    "    labels[row[0]] = int(row[1] * 0.1)\n",
    "\n",
    "result = pd.DataFrame(columns=df_blobs.columns)\n",
    "for ligand, number in labels.items():\n",
    "    result = pd.concat([result, df_blobs[df_blobs['ligand'] == ligand].head(number)])\n",
    "\n",
    "result.to_csv('labels_ten_percent.csv', index=False)"
   ]
  },
  {
   "cell_type": "markdown",
   "metadata": {},
   "source": [
    "# 100 instances of each class\n",
    "This dataset is composed of a hundred instances of each class. 100 is the number of instances of the least frequent class. The syntesized dataset is perfectly balanced.\n",
    "\n",
    "Synthesized dataset consist of:\n",
    "* 219 classes\n",
    "* 21900 blobs"
   ]
  },
  {
   "cell_type": "code",
   "execution_count": 5,
   "metadata": {},
   "outputs": [],
   "source": [
    "df_blobs.groupby('ligand').head(100).to_csv('labels_hundred.csv', index=False)"
   ]
  }
 ],
 "metadata": {
  "interpreter": {
   "hash": "963154eb04d6ce1257fc9b626b678e1d1ef8189179a38ba51d03d44826061849"
  },
  "kernelspec": {
   "display_name": "Python 3.9.7 64-bit ('ligands': conda)",
   "name": "python3"
  },
  "language_info": {
   "codemirror_mode": {
    "name": "ipython",
    "version": 3
   },
   "file_extension": ".py",
   "mimetype": "text/x-python",
   "name": "python",
   "nbconvert_exporter": "python",
   "pygments_lexer": "ipython3",
   "version": "3.9.7"
  },
  "orig_nbformat": 4
 },
 "nbformat": 4,
 "nbformat_minor": 2
}
