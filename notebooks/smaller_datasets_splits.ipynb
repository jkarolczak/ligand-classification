{
 "cells": [
  {
   "cell_type": "markdown",
   "metadata": {},
   "source": [
    "This notebook prepares smaller datasets to make some experiments runable using desktops. Available, smaller datasets:\n",
    "\n",
    "- [labels_ten_frequent.csv](https://ligands.blob.core.windows.net/ligands/labels_ten_frequent.csv)\n",
    "- [labels_ten_percent.csv](https://ligands.blob.core.windows.net/ligands/labels_ten_percent.csv)\n",
    "- [labels_hundred.csv](https://ligands.blob.core.windows.net/ligands/labels_hundred.csv)\n",
    "- [labels_two.csv](https://ligands.blob.core.windows.net/ligands/labels_two.csv)\n",
    "- [labels_three.csv](https://ligands.blob.core.windows.net/ligands/labels_three.csv)\n",
    "\n",
    "To use one of the synthesized (using this notebook) datasets, pass a path to the created comma separated values file to the [`LigandDataset`](https://github.com/jkarolczak/ligands-classification/blob/b0d2daf2f4fef1b83233d130336ffea38cb6a74d/src/simple_reader.py#L9) constructor as a second argument.\n"
   ]
  },
  {
   "cell_type": "code",
   "execution_count": 1,
   "metadata": {},
   "outputs": [],
   "source": [
    "import numpy as np\n",
    "import pandas as pd\n",
    "\n",
    "from sklearn.utils import shuffle\n",
    "\n",
    "np.random.seed(42)\n"
   ]
  },
  {
   "cell_type": "code",
   "execution_count": null,
   "metadata": {},
   "outputs": [],
   "source": [
    "df_labels = shuffle(\n",
    "    pd.read_csv(\"../data/stats_by_label.csv\", usecols=[\"label\", \"count\"])\n",
    ")\n",
    "df_blobs = shuffle(pd.read_csv(\"../data/cmb_blob_labels.csv\"))\n"
   ]
  },
  {
   "cell_type": "markdown",
   "metadata": {},
   "source": [
    "# Ten most frequent classes\n",
    "\n",
    "This dataset is composed of all blobs belonging to ten most frequent classes\n",
    "\n",
    "Synthesized dataset consist of:\n",
    "\n",
    "- 10 classes\n",
    "- 558043 blobs\n"
   ]
  },
  {
   "cell_type": "code",
   "execution_count": null,
   "metadata": {},
   "outputs": [],
   "source": [
    "labels = set(\n",
    "    df_labels.sort_values(by=\"count\", ascending=False).iloc[:10][\"label\"].to_list()\n",
    ")\n",
    "df_blobs[df_blobs[\"ligand\"].isin(labels)].to_csv(\"labels_ten_frequent.csv\", index=False)\n"
   ]
  },
  {
   "cell_type": "markdown",
   "metadata": {},
   "source": [
    "# 10% of the original dataset (maintaned proportions between classes)\n",
    "\n",
    "This dataset is composed of (arbitrary) 10% of blobs belonging to classes, which contain more than 1000 instances. The constraint is to avoid creating extremally small classes in the synthesized (smaller) dataset. The syntesized dataset maintaines proportions between classes.\n",
    "\n",
    "Synthesized dataset consist of:\n",
    "\n",
    "- 44 classes\n",
    "- 64714 blobs\n"
   ]
  },
  {
   "cell_type": "code",
   "execution_count": null,
   "metadata": {},
   "outputs": [],
   "source": [
    "labels = dict()\n",
    "\n",
    "for row in df_labels[df_labels[\"count\"] > 1000].values:\n",
    "    labels[row[0]] = int(row[1] * 0.1)\n",
    "\n",
    "result = pd.DataFrame(columns=df_blobs.columns)\n",
    "for ligand, number in labels.items():\n",
    "    result = pd.concat([result, df_blobs[df_blobs[\"ligand\"] == ligand].head(number)])\n",
    "\n",
    "result.to_csv(\"labels_ten_percent.csv\", index=False)\n"
   ]
  },
  {
   "cell_type": "markdown",
   "metadata": {},
   "source": [
    "# 100 instances of each class\n",
    "\n",
    "This dataset is composed of a hundred instances of each class. 100 is the number of instances of the least frequent class. The syntesized dataset is perfectly balanced.\n",
    "\n",
    "Synthesized dataset consist of:\n",
    "\n",
    "- 219 classes\n",
    "- 21900 blobs\n"
   ]
  },
  {
   "cell_type": "code",
   "execution_count": null,
   "metadata": {},
   "outputs": [],
   "source": [
    "df_blobs.groupby(\"ligand\").head(100).to_csv(\"labels_hundred.csv\", index=False)\n"
   ]
  },
  {
   "cell_type": "markdown",
   "metadata": {},
   "source": [
    "# two classes\n",
    "\n",
    "This dataset is very small. It's composed of two classes, 100 instances for each.\n",
    "\n",
    "Synthesized dataset consist of:\n",
    "\n",
    "- 2 classes\n",
    "- 200 blobs\n"
   ]
  },
  {
   "cell_type": "code",
   "execution_count": null,
   "metadata": {},
   "outputs": [],
   "source": [
    "df = pd.read_csv(\"../data/labels_hundred.csv\")\n",
    "df[df.ligand.isin({\"CA-like\", \"N-like\"})].to_csv(\"labels_two.csv\", index=False)\n"
   ]
  },
  {
   "cell_type": "markdown",
   "metadata": {},
   "source": [
    "# three classes\n",
    "\n",
    "This dataset is very small. It's composed of three classes, 100 instances for each.\n",
    "\n",
    "Synthesized dataset consist of:\n",
    "\n",
    "- 3 classes\n",
    "- 200 blobs\n"
   ]
  },
  {
   "cell_type": "code",
   "execution_count": 2,
   "metadata": {},
   "outputs": [],
   "source": [
    "df = pd.read_csv(\"../data/labels_hundred.csv\")\n"
   ]
  },
  {
   "cell_type": "code",
   "execution_count": null,
   "metadata": {},
   "outputs": [],
   "source": [
    "df[df.ligand.isin({\"CA-like\", \"PEG-like\", \"SAH-like\"})].to_csv(\n",
    "    \"labels_three.csv\", index=False\n",
    ")\n"
   ]
  }
 ],
 "metadata": {
  "interpreter": {
   "hash": "963154eb04d6ce1257fc9b626b678e1d1ef8189179a38ba51d03d44826061849"
  },
  "kernelspec": {
   "display_name": "Python 3.9.7 64-bit ('ligands': conda)",
   "name": "python3"
  },
  "language_info": {
   "codemirror_mode": {
    "name": "ipython",
    "version": 3
   },
   "file_extension": ".py",
   "mimetype": "text/x-python",
   "name": "python",
   "nbconvert_exporter": "python",
   "pygments_lexer": "ipython3",
   "version": "3.8.10"
  },
  "orig_nbformat": 4
 },
 "nbformat": 4,
 "nbformat_minor": 2
}
