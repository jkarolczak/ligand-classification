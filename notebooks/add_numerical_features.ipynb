{
 "cells": [
  {
   "cell_type": "code",
   "execution_count": 1,
   "id": "initial_id",
   "metadata": {
    "collapsed": true,
    "ExecuteTime": {
     "end_time": "2023-09-01T16:11:08.620116960Z",
     "start_time": "2023-09-01T16:11:08.410018096Z"
    }
   },
   "outputs": [],
   "source": [
    "import os\n",
    "\n",
    "import pandas as pd"
   ]
  },
  {
   "cell_type": "code",
   "execution_count": 2,
   "outputs": [],
   "source": [
    "data_dir = \"/home/jkarolczak/Projects/data/\""
   ],
   "metadata": {
    "collapsed": false,
    "ExecuteTime": {
     "end_time": "2023-09-01T16:11:08.638030971Z",
     "start_time": "2023-09-01T16:11:08.621179934Z"
    }
   },
   "id": "39b455bcbefe6e2"
  },
  {
   "cell_type": "code",
   "execution_count": 3,
   "outputs": [],
   "source": [
    "train = pd.read_csv(os.path.join(data_dir, \"train.csv\"))\n",
    "holdout = pd.read_csv(os.path.join(data_dir, \"holdout.csv\"))\n",
    "\n",
    "train[list(range(5))] = train[\"blob_map_filename\"].str.split(\"_\", expand=True)\n",
    "holdout[list(range(5))] = holdout[\"blob_map_filename\"].str.split(\"_\", expand=True)"
   ],
   "metadata": {
    "collapsed": false,
    "ExecuteTime": {
     "end_time": "2023-09-01T16:11:10.144856126Z",
     "start_time": "2023-09-01T16:11:08.624045892Z"
    }
   },
   "id": "69947fef50b058e4"
  },
  {
   "cell_type": "code",
   "execution_count": 4,
   "outputs": [],
   "source": [
    "full = pd.read_csv(\"/home/jkarolczak/Projects/data/cmb_server_with_rare.csv\")\n",
    "near = full.loc[:, [\"title\", \"local_near_cut_count_N\", \"local_near_cut_count_O\", \"local_near_cut_count_C\"]]\n",
    "near.loc[:, list(range(4))] = near[\"title\"].str.split(\" \", expand=True)"
   ],
   "metadata": {
    "collapsed": false,
    "ExecuteTime": {
     "end_time": "2023-09-01T16:11:14.174411362Z",
     "start_time": "2023-09-01T16:11:10.146955124Z"
    }
   },
   "id": "ac6d0e13163c70ae"
  },
  {
   "cell_type": "code",
   "execution_count": 5,
   "outputs": [],
   "source": [
    "train_near = pd.merge(train, near, on=[0, 1, 2, 3])[[\"blob_map_filename\", \"ligand\", \"local_near_cut_count_N\", \"local_near_cut_count_O\", \"local_near_cut_count_C\"]]\n",
    "holdout_near = pd.merge(holdout, near, on=[0, 1, 2, 3])[[\"blob_map_filename\", \"ligand\", \"local_near_cut_count_N\", \"local_near_cut_count_O\", \"local_near_cut_count_C\"]]"
   ],
   "metadata": {
    "collapsed": false,
    "ExecuteTime": {
     "end_time": "2023-09-01T16:11:15.535142385Z",
     "start_time": "2023-09-01T16:11:14.176840364Z"
    }
   },
   "id": "1810e023c5a10635"
  },
  {
   "cell_type": "code",
   "execution_count": 6,
   "outputs": [],
   "source": [
    "train_near.to_csv(os.path.join(data_dir, \"train-near.csv\"), index=False)\n",
    "holdout_near.to_csv(os.path.join(data_dir, \"holdout-near.csv\"), index=False)"
   ],
   "metadata": {
    "collapsed": false,
    "ExecuteTime": {
     "end_time": "2023-09-01T16:11:16.994603241Z",
     "start_time": "2023-09-01T16:11:15.536875664Z"
    }
   },
   "id": "6a91052a44c73a71"
  },
  {
   "cell_type": "code",
   "execution_count": 6,
   "outputs": [],
   "source": [],
   "metadata": {
    "collapsed": false,
    "ExecuteTime": {
     "end_time": "2023-09-01T16:11:16.999763251Z",
     "start_time": "2023-09-01T16:11:16.994948763Z"
    }
   },
   "id": "44e06f9050023b5f"
  }
 ],
 "metadata": {
  "kernelspec": {
   "display_name": "Python 3",
   "language": "python",
   "name": "python3"
  },
  "language_info": {
   "codemirror_mode": {
    "name": "ipython",
    "version": 2
   },
   "file_extension": ".py",
   "mimetype": "text/x-python",
   "name": "python",
   "nbconvert_exporter": "python",
   "pygments_lexer": "ipython2",
   "version": "2.7.6"
  }
 },
 "nbformat": 4,
 "nbformat_minor": 5
}
