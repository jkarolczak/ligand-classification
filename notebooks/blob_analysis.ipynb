{
 "cells": [
  {
   "cell_type": "markdown",
   "metadata": {},
   "source": [
    "Legend:\n",
    "\n",
    "- `label` - label of the given ligand\n",
    "- `blob_shape` - dimensions of the blob; ($B_{x}$, $B_{y}$, $B_{z}$)\n",
    "- `blob_n` - number of all voxels in the blob; $|B| = B_{x} \\times B_{y} \\times B_{z}$\n",
    "- `nonzero_n` - number of voxels containing nonzero values; $|B_{+}|$\n",
    "- `nonzero_%` - participation of nonzero voxels in the whole blob, expressed as a fraction; $\\frac{|B_{+}|}{|B|}$\n",
    "- `nonzero_min` - minimum value of voxels containing nonzero values; $min(B_{+}$)\n",
    "- `nonzero_1_qrtl` - first quartile of the given blob, computed using voxels containing nonzero values; $Q1(B_{+})$\n",
    "- `nonzero_mean` - mean value of voxels containing nonzero values; $\\frac{1}{|B_{+}|} \\sum_{B_{+}} b$\n",
    "- `nonzero_3_qrtl`- third quartile of the given blob, computed using voxels containing nonzero values; $Q3(B_{+})$\n",
    "- `nonzero_max` - minimum value of voxels containing nonzero values; $max(B_{+}$)\n",
    "- `nonzero_sum` - sum of values of voxels containing nonzero values; $\\sum_{B_{+}} b$\n",
    "- `nonzero_median` - median of values of voxels containing nonzero values; $median(B_{+})$\n",
    "- `nonzero_std` - standard deviation of values of voxels contatining nonzero values; $std(B_{+})$\n",
    "- `nonzero_skewness` - skewness of values of voxels contatining nonzero values; $skewness(B_{+})$\n",
    "- `nonzero_kurtosis` - kurtosis deviation of values of voxels contatining nonzero values; $kurtosis(B_{+})$\n",
    "- `nonzero_zscore_2_n` - number of values of voxels contatining nonzero values with z-score greater than 2; $|z-score (B_{+}) > 2|$\n",
    "- `nonzero_zscore_2_%` - participation of values of voxels contatining nonzero values with z-score greater than 2 in the number of all nonzero valued voxels, expressed as a fraction; $\\frac{|z-score (B_{+}) > 2|}{|B_{+}|}$\n",
    "- `nonzero_zscore_3_n` - number of values of voxels contatining nonzero values with z-score greater than 3; $|z-score (B_{+}) > 3|$\n",
    "- `nonzero_zscore_3_%` - participation of values of voxels contatining nonzero values with z-score greater than 3 in the number of all nonzero valued voxels, expressed as a fraction; $\\frac{|z-score (B_{+}) > 3|}{|B_{+}|}$"
   ]
  },
  {
   "cell_type": "code",
   "execution_count": null,
   "metadata": {},
   "outputs": [],
   "source": [
    "import numpy as np\n",
    "\n",
    "import sys\n",
    "sys.path.append('../src/')\n",
    "\n",
    "from utils.blob_details import BlobDetails\n",
    "import utils.plotting as lig_plt"
   ]
  },
  {
   "cell_type": "code",
   "execution_count": null,
   "metadata": {},
   "outputs": [],
   "source": [
    "BLOB_DIR_PATH = '../data'\n",
    "BLOB_FILE_NAME = '1ny5_PO4_603_A_3.npz'"
   ]
  },
  {
   "cell_type": "markdown",
   "metadata": {},
   "source": [
    "## STATISTICS OF THE GIVEN BLOB"
   ]
  },
  {
   "cell_type": "code",
   "execution_count": null,
   "metadata": {},
   "outputs": [],
   "source": [
    "blob = BlobDetails(BLOB_DIR_PATH, BLOB_FILE_NAME)\n",
    "stats = blob.get_stats()\n",
    "for stat_name, value in stats.items():\n",
    "    print(\"{:<20} || {}\".format(stat_name, value))"
   ]
  },
  {
   "cell_type": "markdown",
   "metadata": {},
   "source": [
    "## VISUALISATIONS\n",
    "*Due to its size, 3D Volume plot is saved as a separate file in order not to overinflate the size of this notebook*"
   ]
  },
  {
   "cell_type": "markdown",
   "metadata": {},
   "source": [
    "### LIGAND DIAGRAM"
   ]
  },
  {
   "cell_type": "code",
   "execution_count": null,
   "metadata": {
    "pycharm": {
     "name": "#%%\n"
    }
   },
   "outputs": [],
   "source": [
    "lig_id = stats['label'].replace('-like', '')\n",
    "lig_url = lig_plt.get_ligand_diagram_url(lig_id)\n",
    "lig_plt.svg_to_html(lig_url)"
   ]
  },
  {
   "cell_type": "markdown",
   "metadata": {
    "collapsed": false
   },
   "source": [
    "### SURFACE PLOT"
   ]
  },
  {
   "cell_type": "code",
   "execution_count": null,
   "metadata": {
    "collapsed": false,
    "pycharm": {
     "name": "#%%\n"
    }
   },
   "outputs": [],
   "source": [
    "%matplotlib inline\n",
    "lig_plt.plot_interactive_trisurf(np.array(blob.blob), \"3D visualisation of {}\".format(stats['blob_name']))"
   ]
  },
  {
   "cell_type": "markdown",
   "metadata": {
    "collapsed": false
   },
   "source": [
    "### VOLUME PLOT\n",
    "*saved to the separate file in output directory*"
   ]
  },
  {
   "cell_type": "code",
   "execution_count": null,
   "metadata": {
    "collapsed": false,
    "pycharm": {
     "name": "#%%\n"
    }
   },
   "outputs": [],
   "source": [
    "title = \"3D visualisation of {}\".format(stats['blob_name'])\n",
    "volume_graph = blob.plot_volume_3d(title, opacity = 0.1, surface_count = 25)\n",
    "volume_graph.write_html(\"output/volume_graph.html\")"
   ]
  }
 ],
 "metadata": {
  "interpreter": {
   "hash": "63fd5069d213b44bf678585dea6b12cceca9941eaf7f819626cde1f2670de90d"
  },
  "kernelspec": {
   "display_name": "Python 3.8.8 64-bit ('minkowski': conda)",
   "language": "python",
   "name": "python388jvsc74a57bd0c60e80342fd5078e0d01ef6ad89eda686b4189dfc6848d4fa7ebbd9588d45198"
  },
  "language_info": {
   "codemirror_mode": {
    "name": "ipython",
    "version": 3
   },
   "file_extension": ".py",
   "mimetype": "text/x-python",
   "name": "python",
   "nbconvert_exporter": "python",
   "pygments_lexer": "ipython3",
   "version": "3.8.3"
  }
 },
 "nbformat": 4,
 "nbformat_minor": 2
}
