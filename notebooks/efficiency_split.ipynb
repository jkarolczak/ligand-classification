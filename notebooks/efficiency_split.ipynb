{
 "cells": [
  {
   "cell_type": "code",
   "execution_count": 1,
   "metadata": {},
   "outputs": [],
   "source": [
    "import pandas as pd\n",
    "from sklearn.model_selection import train_test_split"
   ]
  },
  {
   "cell_type": "code",
   "execution_count": 5,
   "metadata": {},
   "outputs": [],
   "source": [
    "files = pd.read_csv('../data/cmb_blob_labels.csv')\n",
    "stats = pd.read_csv('../data/stats_all.csv')\n",
    "df = files.join(stats)[['label', 'blob_map_filename', 'blob_n', 'wout_0_n']]\n",
    "df['quantile'] = pd.qcut(df['wout_0_n'], 100)"
   ]
  },
  {
   "cell_type": "code",
   "execution_count": 8,
   "metadata": {},
   "outputs": [],
   "source": [
    "eff_df, _ = train_test_split(df, train_size=100, stratify=df['quantile'])\n",
    "eff_df.to_csv('eff_test.csv')"
   ]
  }
 ],
 "metadata": {
  "interpreter": {
   "hash": "c60e80342fd5078e0d01ef6ad89eda686b4189dfc6848d4fa7ebbd9588d45198"
  },
  "kernelspec": {
   "display_name": "Python 3.8.8 64-bit ('minkowski': conda)",
   "language": "python",
   "name": "python3"
  },
  "language_info": {
   "codemirror_mode": {
    "name": "ipython",
    "version": 3
   },
   "file_extension": ".py",
   "mimetype": "text/x-python",
   "name": "python",
   "nbconvert_exporter": "python",
   "pygments_lexer": "ipython3",
   "version": "3.8.8"
  },
  "orig_nbformat": 4
 },
 "nbformat": 4,
 "nbformat_minor": 2
}