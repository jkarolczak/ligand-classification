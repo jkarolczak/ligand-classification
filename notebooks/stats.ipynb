{
 "cells": [
  {
   "cell_type": "markdown",
   "metadata": {},
   "source": [
    "This notebooks compute some basic statistics for the dataset. As the result three (.csv) files are created:\n",
    "- [stats_summary.csv](https://ligands.blob.core.windows.net/ligands/stats_summary.csv) - statistics for the whole dataset, aggregated using min, mean, median, max and std values of given feature, of all blobs,\n",
    "- [stats_by_label.csv](https://ligands.blob.core.windows.net/ligands/stats_by_label.csv) - statistics for each label, aggregated using min, mean, median, max and std values of given feature, grouped by label, to determine which column contain which statistic, look at the aggregation function name after last underscore (e.g. `blob_n`**`_mean`**, `nonzero_max`**`_max`**)\n",
    "- [stats_all.csv](https://ligands.blob.core.windows.net/ligands/stats_all.csv) - statistics for each blob, neither grouped nor aggregated.\n",
    "\n",
    "Column names:\n",
    "\n",
    "`blob` prefix stands for the whole blob ($B$) <br>\n",
    "`nonzero` prefix stands for statistics computed for voxels containing nonzero values (without 0) ($B_{+}$)\n",
    "\n",
    "Legend:\n",
    "\n",
    "- `label` - label of the given ligand\n",
    "- `blob_shape` - dimensions of the blob; ($B_{x}$, $B_{y}$, $B_{z}$)\n",
    "- `blob_n` - number of all voxels in the blob; $|B| = B_{x} \\times B_{y} \\times B_{z}$\n",
    "- `nonzero_n` - number of voxels containing nonzero values; $|B_{+}|$\n",
    "- `nonzero_%` - participation of nonzero voxels in the whole blob, expressed as a fraction; $\\frac{|B_{+}|}{|B|}$\n",
    "- `nonzero_min` - minimum value of voxels containing nonzero values; $min(B_{+}$)\n",
    "- `nonzero_1_qrtl` - first quartile of the given blob, computed using voxels containing nonzero values; $Q1(B_{+})$\n",
    "- `nonzero_mean` - mean value of voxels containing nonzero values; $\\frac{1}{|B_{+}|} \\sum_{B_{+}} b$\n",
    "- `nonzero_3_qrtl`- third quartile of the given blob, computed using voxels containing nonzero values; $Q3(B_{+})$\n",
    "- `nonzero_max` - minimum value of voxels containing nonzero values; $max(B_{+}$)\n",
    "- `nonzero_sum` - sum of values of voxels containing nonzero values; $\\sum_{B_{+}} b$\n",
    "- `nonzero_median` - median of values of voxels containing nonzero values; $median(B_{+})$\n",
    "- `nonzero_std` - standard deviation of values of voxels contatining nonzero values; $std(B_{+})$\n",
    "- `nonzero_skewness` - skewness of values of voxels contatining nonzero values; $skewness(B_{+})$\n",
    "- `nonzero_kurtosis` - kurtosis deviation of values of voxels contatining nonzero values; $kurtosis(B_{+})$\n",
    "- `nonzero_zscore_2_n` - number of values of voxels contatining nonzero values with z-score greater than 2; $|z-score (B_{+}) > 2|$\n",
    "- `nonzero_zscore_2_%` - participation of values of voxels contatining nonzero values with z-score greater than 2 in the number of all nonzero valued voxels, expressed as a fraction; $\\frac{|z-score (B_{+}) > 2|}{|B_{+}|}$\n",
    "- `nonzero_zscore_3_n` - number of values of voxels contatining nonzero values with z-score greater than 3; $|z-score (B_{+}) > 3|$\n",
    "- `nonzero_zscore_3_%` - participation of values of voxels contatining nonzero values with z-score greater than 3 in the number of all nonzero valued voxels, expressed as a fraction; $\\frac{|z-score (B_{+}) > 3|}{|B_{+}|}$"
   ]
  },
  {
   "cell_type": "code",
   "execution_count": null,
   "metadata": {},
   "outputs": [],
   "source": [
    "import pandas as pd\n",
    "import torch\n",
    "\n",
    "import sys\n",
    "sys.path.append('../src/')\n",
    "\n",
    "from simple_reader import LigandDataset, DataLoader"
   ]
  },
  {
   "cell_type": "code",
   "execution_count": null,
   "metadata": {},
   "outputs": [],
   "source": [
    "dataset = LigandDataset('../data')\n",
    "dataloader = DataLoader(dataset)"
   ]
  },
  {
   "cell_type": "code",
   "execution_count": null,
   "metadata": {},
   "outputs": [],
   "source": [
    "def zscore_threshold(tensor, threshold):\n",
    "    diffs = tensor - tensor.mean()\n",
    "    zscores = diffs / tensor.std()\n",
    "    return zscores[zscores > threshold].shape[0]"
   ]
  },
  {
   "cell_type": "code",
   "execution_count": null,
   "metadata": {},
   "outputs": [],
   "source": [
    "stats = []\n",
    "\n",
    "for idx, (blob, label) in enumerate(dataloader):\n",
    "    nonzero = blob[blob > 0]\n",
    "    nonzero_n = nonzero.shape[0]                        # nonzero_n\n",
    "    blob_n = blob.flatten().shape[0]                    # blob_n\n",
    "    nonzero_mean = float(nonzero.mean())                # nonzero_mean\n",
    "    nonzero_std = float(nonzero.std())                  # nonzero_std\n",
    "    nonzero_1_qrtl = float(nonzero.quantile(0.25))      # nonzero_1_qrtl\n",
    "    nonzero_3_qrtl = float(nonzero.quantile(0.75))      # nonzero_3_qrtl\n",
    "\n",
    "    diffs = nonzero - nonzero_mean\n",
    "    zscores = diffs / nonzero_std\n",
    "\n",
    "    nonzero_zscore_2 = zscores[zscores > 2.0].shape[0]      # nonzero_zscore_2_n\n",
    "    nonzero_zscore_3 = zscores[zscores > 3.0].shape[0]      # nonzero_zscore_3_n\n",
    "\n",
    "    nonzero_skewness = float(torch.pow(zscores, 3.0).mean())        # nonzero_skewness\n",
    "    nonzero_kurtosis = float(torch.pow(zscores, 4.0).mean() - 3.0)  # nonzero_kurtosis\n",
    "    \n",
    "    stats.append([\n",
    "        label,                          # label\n",
    "        list(blob.shape),               # blob_shape\n",
    "        blob_n,                         # blob_n\n",
    "        nonzero_n,                      # nonzero_n\n",
    "        nonzero_n / blob_n,             # nonzero_%\n",
    "        float(nonzero.min()),           # nonzero_min\n",
    "        nonzero_1_qrtl,                 # nonzero_1_qrtl\n",
    "        nonzero_mean,                   # nonzero_mean\n",
    "        nonzero_3_qrtl,                 # nonzero_3_qrtl\n",
    "        float(nonzero.max()),           # nonzero_max\n",
    "        float(nonzero.sum()),           # nonzero_sum         \n",
    "        float(nonzero.median()),        # nonzero_median\n",
    "        nonzero_std,                    # nonzero_std\n",
    "        nonzero_skewness,               # nonzero_skewness\n",
    "        nonzero_kurtosis,               # nonzero_kurtosis\n",
    "        nonzero_zscore_2,               # nonzero_zscore_2_n\n",
    "        nonzero_zscore_2 / nonzero_n,   # nonzero_zscore_2_%\n",
    "        nonzero_zscore_3,               # nonzero_zscore_3_n\n",
    "        nonzero_zscore_3 / nonzero_n,   # nonzero_zscore_3_%\n",
    "    ])"
   ]
  },
  {
   "cell_type": "code",
   "execution_count": null,
   "metadata": {},
   "outputs": [],
   "source": [
    "df = pd.DataFrame(\n",
    "    stats,\n",
    "    columns=[\n",
    "        'label',\n",
    "        'blob_shape',\n",
    "        'blob_n',\n",
    "        'nonzero_n',\n",
    "        'nonzero_%',        \n",
    "        'nonzero_min',\n",
    "        'nonzero_1_qrtl',\n",
    "        'nonzero_mean',\n",
    "        'nonzero_3_qrtl',\n",
    "        'nonzero_max',\n",
    "        'nonzero_sum',\n",
    "        'nonzero_median',\n",
    "        'nonzero_std',\n",
    "        'nonzero_skewness',\n",
    "        'nonzero_kurtosis',\n",
    "        'nonzero_zscore_2_n',\n",
    "        'nonzero_zscore_2_%',\n",
    "        'nonzero_zscore_3_n',\n",
    "        'nonzero_zscore_3_%'\n",
    "    ]\n",
    ")"
   ]
  },
  {
   "cell_type": "markdown",
   "metadata": {},
   "source": [
    "[stats_all.csv](https://ligands.blob.core.windows.net/ligands/stats_all.csv)"
   ]
  },
  {
   "cell_type": "code",
   "execution_count": null,
   "metadata": {},
   "outputs": [],
   "source": [
    "df.to_csv('stats_all.csv')"
   ]
  },
  {
   "cell_type": "markdown",
   "metadata": {},
   "source": [
    "[stats_by_label.csv](https://ligands.blob.core.windows.net/ligands/stats_by_label.csv)"
   ]
  },
  {
   "cell_type": "code",
   "execution_count": null,
   "metadata": {},
   "outputs": [],
   "source": [
    "df_by_label = df.drop(df.columns[0], axis=1).groupby('label').agg(['min', 'mean', 'median', 'max', 'std'])\n",
    "df_by_label.columns = ['_'.join(column) for column in df_by_label.columns.values]\n",
    "df_by_label['count'] = df.groupby('label').count().iloc[:, 0]\n",
    "df_by_label.to_csv('stats_by_label.csv')"
   ]
  },
  {
   "cell_type": "markdown",
   "metadata": {},
   "source": [
    "[stats_summary.csv](https://ligands.blob.core.windows.net/ligands/stats_summary.csv)"
   ]
  },
  {
   "cell_type": "code",
   "execution_count": null,
   "metadata": {},
   "outputs": [],
   "source": [
    "df_summary = df.drop(df.columns[:3], axis=1).agg(['min', 'mean', 'median', 'max', 'std'], axis=0)\n",
    "df.summary.to_csv('stats_summary.csv', index_label='stat')"
   ]
  }
 ],
 "metadata": {
  "interpreter": {
   "hash": "963154eb04d6ce1257fc9b626b678e1d1ef8189179a38ba51d03d44826061849"
  },
  "kernelspec": {
   "display_name": "Python 3.9.7 64-bit ('ligands': conda)",
   "name": "python3"
  },
  "language_info": {
   "codemirror_mode": {
    "name": "ipython",
    "version": 3
   },
   "file_extension": ".py",
   "mimetype": "text/x-python",
   "name": "python",
   "nbconvert_exporter": "python",
   "pygments_lexer": "ipython3",
   "version": "3.9.7"
  }
 },
 "nbformat": 4,
 "nbformat_minor": 2
}
