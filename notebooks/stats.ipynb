{
 "cells": [
  {
   "cell_type": "markdown",
   "source": [
    "This notebooks compute some basic statistics for the dataset. As the result three (.csv) files are created:\n",
    "- [stats_summary.csv](https://ligands.blob.core.windows.net/ligands/stats_summary.csv) - statistics for the whole dataset, aggregated using mean value of given feature, of all blobs,\n",
    "- [stats_by_label.csv](https://ligands.blob.core.windows.net/ligands/stats_by_label.csv) - statistics for each label, aggregated using mean value of given feature, grouped by label,\n",
    "- [stats_all.csv](https://ligands.blob.core.windows.net/ligands/stats_all.csv) - statistics for each blob, not grouped nor aggregated.\n",
    "\n",
    "Column names:\n",
    "\n",
    "`blob` prefix stands for the whole blob ($B$) <br>\n",
    "`wout_0` prefix stands for statistics computed for voxels containing nonzero values (without 0) ($B_{+}$)\n",
    "\n",
    "Legend:\n",
    "\n",
    "- `label` - label of the given ligand\n",
    "- `blob_shape` - dimensions of the blob; ($B_{x}$, $B_{y}$, $B_{z}$)\n",
    "- `blob_n` - number all of voxels in the blob; $|B| = B_{x} \\times B_{y} \\times B_{z}$\n",
    "- `wout_0_n` - number of voxels containing nonzero values; $|B_{+}|$\n",
    "- `wout_0_%` - participation of nonzero valued voxels in the whole blob, expressed as a fraction; $\\frac{\\textrm{wout\\textunderscore0\\textunderscore n}}{\\textrm{blob\\textunderscore n}}$\n",
    "- `wout_0_min` - minimum value of voxels containing nonzero values; $min(B_{+}$)\n",
    "- `wout_0_1_qrtl` - first quartile of the given blob, computed using voxels containing nonzero values; $Q1(B_{+})$\n",
    "- `wout_0_mean` - mean value of voxels containing nonzero values; $\\frac{1}{|B_{+}|} \\sum_{B_{+}} b$\n",
    "- `wout_0_3_qrtl`- third quartile of the given blob, computed using voxels containing nonzero values; $Q3(B_{+})$\n",
    "- `wout_0_max` - minimum value of voxels containing nonzero values; $max(B_{+}$)\n",
    "- `wout_0_sum` - sum of values of voxels containing nonzero values; $\\sum_{B_{+}} b$\n",
    "- `wout_0_median` - median of values of voxels containing nonzero values; $median(B_{+})$\n",
    "- `wout_0_std` - standard deviation of values of voxels contatining nonzero values; $std(B_{+})$\n",
    "- `wout_0_skewness` - skewness of values of voxels contatining nonzero values; $skewness(B_{+})$\n",
    "- `wout_0_kurtosis` - kurtosis deviation of values of voxels contatining nonzero values; $kurtosis(B_{+})$\n",
    "- `wout_0_zscore_2_n` - number of values of voxels contatining nonzero values with z-score greater than 2; $|z-score (B_{+}) > 2|$\n",
    "- `wout_0_zscore_2_%` - participation of values of voxels contatining nonzero values with z-score greater than 2 in the number of all nonzero valued voxels, expressed as a fraction; $\\frac{|z-score (B_{+}) > 2|}{|B_{+}|}$\n",
    "- `wout_0_zscore_3_n` - number of values of voxels contatining nonzero values with z-score greater than 3; $|z-score (B_{+}) > 3|$\n",
    "- `wout_0_zscore_3_%` - participation of values of voxels contatining nonzero values with z-score greater than 3 in the number of all nonzero valued voxels, expressed as a fraction; $\\frac{|z-score (B_{+}) > 3|}{|B_{+}|}$\n"
   ],
   "metadata": {}
  },
  {
   "cell_type": "code",
   "execution_count": 1,
   "source": [
    "import pandas as pd\n",
    "import torch\n",
    "\n",
    "import sys\n",
    "sys.path.append('../src/')\n",
    "\n",
    "from simple_reader import LigandDataset, DataLoader"
   ],
   "outputs": [],
   "metadata": {}
  },
  {
   "cell_type": "code",
   "execution_count": 2,
   "source": [
    "dataset = LigandDataset('../data')\n",
    "dataloader = DataLoader(dataset)"
   ],
   "outputs": [],
   "metadata": {}
  },
  {
   "cell_type": "code",
   "execution_count": 3,
   "source": [
    "def zscore_threshold(tensor, threshold):\n",
    "    diffs = tensor - tensor.mean()\n",
    "    zscores = diffs / tensor.std()\n",
    "    return zscores[zscores > threshold].shape[0]"
   ],
   "outputs": [],
   "metadata": {}
  },
  {
   "cell_type": "code",
   "execution_count": 4,
   "source": [
    "stats = []\n",
    "\n",
    "for idx, (blob, label) in enumerate(dataloader):\n",
    "    wout_0 = blob[blob > 0]\n",
    "    wout_0_n = wout_0.shape[0]                      # wout_0_n\n",
    "    blob_n = blob.flatten().shape[0]                # blob_n\n",
    "    wout_0_mean = float(wout_0.mean())              # wout_0_mean\n",
    "    wout_0_std = float(wout_0.std())                # wout_0_std\n",
    "    wout_0_1_qrtl = float(wout_0.quantile(0.25))    # wout_0_1_qrtl\n",
    "    wout_0_3_qrtl = float(wout_0.quantile(0.75))    # wout_0_3_qrtl\n",
    "\n",
    "    diffs = wout_0 - wout_0_mean\n",
    "    zscores = diffs / wout_0_std\n",
    "\n",
    "    wout_0_zscore_2 = zscores[zscores > 2.0].shape[0]   # wout_0_zscore_2_n\n",
    "    wout_0_zscore_3 = zscores[zscores > 3.0].shape[0]   # wout_0_zscore_3_n\n",
    "\n",
    "    wout_0_skewness = float(torch.pow(zscores, 3.0).mean())         # wout_0_skewness\n",
    "    wout_0_kurtosis = float(torch.pow(zscores, 4.0).mean() - 3.0)   # wout_0_kurtosis\n",
    "    \n",
    "    stats.append([\n",
    "        label,                          # label\n",
    "        list(blob.shape),               # blob_shape\n",
    "        blob_n,                         # blob_n\n",
    "        wout_0_n,                       # wout_0_n\n",
    "        wout_0_n / blob_n,              # wout_0_%\n",
    "        float(wout_0.min()),            # wout_0_min\n",
    "        wout_0_1_qrtl,                  # wout_0_1_qrtl\n",
    "        wout_0_mean,                    # wout_0_mean\n",
    "        wout_0_3_qrtl,                  # wout_0_3_qrtl\n",
    "        float(wout_0.max()),            # wout_0_max\n",
    "        float(wout_0.sum()),            # wout_0_sum         \n",
    "        float(wout_0.median()),         # wout_0_median\n",
    "        wout_0_std,                     # wout_0_std\n",
    "        wout_0_skewness,                # wout_0_skewness\n",
    "        wout_0_kurtosis,                # wout_0_kurtosis\n",
    "        wout_0_zscore_2,                # wout_0_zscore_2_n\n",
    "        wout_0_zscore_2 / wout_0_n,     # wout_0_zscore_2_%\n",
    "        wout_0_zscore_3,                # wout_0_zscore_3_n\n",
    "        wout_0_zscore_3 / wout_0_n,     # wout_0_zscore_3_%\n",
    "    ])"
   ],
   "outputs": [],
   "metadata": {}
  },
  {
   "cell_type": "code",
   "execution_count": 5,
   "source": [
    "df = pd.DataFrame(\n",
    "    stats,\n",
    "    columns=[\n",
    "        'label',\n",
    "        'blob_shape',\n",
    "        'blob_n',\n",
    "        'wout_0_n',\n",
    "        'wout_0_%',        \n",
    "        'wout_0_min',\n",
    "        'wout_0_1_qrtl',\n",
    "        'wout_0_mean',\n",
    "        'wout_0_3_qrtl',\n",
    "        'wout_0_max',\n",
    "        'wout_0_sum',\n",
    "        'wout_0_median',\n",
    "        'wout_0_std',\n",
    "        'wout_0_skewness',\n",
    "        'wout_0_kurtosis',\n",
    "        'wout_0_zscore_2_n',\n",
    "        'wout_0_zscore_2_%',\n",
    "        'wout_0_zscore_3_n',\n",
    "        'wout_0_zscore_3_%'\n",
    "    ]\n",
    ")\n",
    "df.to_csv('stats_all.csv')"
   ],
   "outputs": [],
   "metadata": {}
  },
  {
   "cell_type": "code",
   "execution_count": 6,
   "source": [
    "df.groupby('label').mean().to_csv('stats_by_label.csv')"
   ],
   "outputs": [],
   "metadata": {}
  },
  {
   "cell_type": "code",
   "execution_count": 7,
   "source": [
    "df.mean(axis=0).to_csv(\n",
    "    'stats_summary.csv',\n",
    "    index_label='stat',\n",
    "    header=['value']    \n",
    ")"
   ],
   "outputs": [],
   "metadata": {}
  }
 ],
 "metadata": {
  "orig_nbformat": 4,
  "language_info": {
   "name": "python",
   "version": "3.9.7",
   "mimetype": "text/x-python",
   "codemirror_mode": {
    "name": "ipython",
    "version": 3
   },
   "pygments_lexer": "ipython3",
   "nbconvert_exporter": "python",
   "file_extension": ".py"
  },
  "kernelspec": {
   "name": "python3",
   "display_name": "Python 3.9.7 64-bit ('ligands': conda)"
  },
  "interpreter": {
   "hash": "d5397b3782789a57791fece4f41d6cc9949fc73efa58c4b0eb77b5100c3bc66f"
  }
 },
 "nbformat": 4,
 "nbformat_minor": 2
}